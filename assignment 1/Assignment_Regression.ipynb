{
 "cells": [
  {
   "cell_type": "markdown",
   "metadata": {},
   "source": [
    "\n",
    "# Introduction Regression\n",
    "\n",
    "---\n",
    "\n",
    "Many advanced machine learning and data analysis techniques are founded on the principles of regression. A solid understanding of regression is often essential for mastering more complex algorithms, such as logistic regression, polynomial regression, Ridge Regression, Lasso, linear kernels in SVM, and neural networks. In this first assignment, we will explore the fundamentals of regression to establish a strong foundation for a wide range of machine learning applications.\n",
    "\n",
    "This notebook consists the following parts:\n",
    "\n",
    "- [A: data preparation regression](#01)\n",
    "- [B: Implementation of the cost function algorithm](#02)\n",
    "- [C: Implementation of the gradient descent algorithm](#03)\n",
    "- [D: Implementation of a regularization parameter](#04)\n",
    "- [E: Data preparation logistic regression](#051)\n",
    "- [F: Implementation of logistic regression](#05)\n",
    "- [G: Validate the outcome](#06)\n",
    "- [H: Development of the logistic regression class](#07)\n",
    "- [I: BONUS: Development of a polynomial class](#08)\n",
    "\n",
    "---\n",
    "\n",
    "### Learning Objectives\n",
    "By the end of this two weeks you will be able to:\n",
    "- Understand the fundamental concepts of regression models.\n",
    "- Grasp the construction and significance of feature weights in modeling.\n",
    "- Understand model error, learning rates, and regularization factors and their impact on model performance.\n",
    "- Translate theoretical concepts into functional code, implementing machine learning models.\n",
    "- Articulate the appropriate use cases for different regression algorithms.\n",
    "- Build your own regression classes from scratch, implementing methods for fitting the model and making predictions.\n",
    "\n",
    "---\n",
    "\n",
    "### Instructions\n",
    "- Ensure you fully understand the requirements and objectives of the assignment.\n",
    "- If you need additional context or clarification, please check the provided videos or background literature.\n",
    "- Work through each part of the assignment methodically, ensuring all tasks are completed.\n",
    "- Using the code from the tasks A to E, create **python files** with a classes that models data using (logistic) regression. These classes should include the following methods:\n",
    "  - `fit()`: A method to fit the model to the training data, determining the best weights.\n",
    "  - `predict()`: A method to predict the outcome for new input data using the trained model.\n",
    "  - `predict_proba()`: (optional) returns an array with probability per class for the specific sample.\n",
    "- Submit a repository with a directory `regression` that includes:\n",
    "  - This finished notebook and supportive code snippets\n",
    "  - The python file with the regression class \n",
    "  - The python file with the logistic regression class\n",
    "  - The python file with the polynomial class (optional)\n",
    "  - An evaluation document that details specific scenarios or datasets where each type of regression (linear, logistic, polynomial) is appropriate or inappropriate.\n",
    "\n",
    "\n",
    "### Additional Notes:\n",
    "- Do not add datafiles to your repository. Repositories with datafiles will not be accepted\n",
    "- Class solutions should be delivered in python files. Not in notebooks\n",
    "- When AI tools are used, you must provide proper references and explanations for how they were utilized. Failure to do so will be considered as academic fraud\n",
    "- The bonus assignment (H) is not mandatory\n",
    "- Use PEP8 \n",
    "\n",
    "Good luck!\n",
    "\n",
    "F.Feenstra\n",
    "\n",
    "---\n"
   ]
  },
  {
   "cell_type": "code",
   "execution_count": 1,
   "metadata": {},
   "outputs": [],
   "source": [
    "#imports\n",
    "import time\n",
    "import numpy as np\n",
    "import matplotlib.pyplot as plt\n",
    "import pandas as pd\n",
    "\n",
    "# sklearn imports\n",
    "from sklearn.preprocessing import StandardScaler, MinMaxScaler\n",
    "from sklearn.metrics import classification_report, mean_squared_error, r2_score, confusion_matrix\n",
    "\n",
    "\n",
    "def draw_costs(costs): \n",
    "    \"\"\" function to draw historical cost\"\"\"\n",
    "    plt.plot(range(1, num_iters + 1), costs, color='b')\n",
    "    plt.xlabel('Number of iterations')\n",
    "    plt.ylabel('Cost (J)')\n",
    "    plt.title('Cost function over iterations')\n",
    "    plt.show()\n",
    "\n",
    "\n",
    "def accuracy(y, y_pred):\n",
    "    \"\"\" function to calculate accuracy\"\"\"\n",
    "    match = 0\n",
    "    for i in np.arange(0,len(y)):\n",
    "        if y[i] == y_pred[i]:\n",
    "            match = match + 1\n",
    "    acc = match / len(y_pred)\n",
    "    print(acc)\n"
   ]
  },
  {
   "cell_type": "markdown",
   "metadata": {},
   "source": [
    "---\n",
    "# Linear Regression\n",
    "---\n",
    "## Use case regression\n",
    "The use case for the regression part in this notebook is the Delaney ESOL database. ESOL is a simple empirical model for aqueous solubility published by Delaney in 2004[1]. From molecule structures some molecure features were derived. The Delaney model (R2 0.74) published in the paper was: \n",
    "\n",
    "$$LogS = 0.16 -  0.63 cLogP - 0.0062 MW + 0.066 RB - 0.74 AP$$\n",
    "\n",
    "- $LogS$ = log of the aqueous solubility (the target)\n",
    "- $cLogP$ = octanol-water partition coefficient as calculated by the Daylight toolkit\n",
    "- $MW$ = molecular weight\n",
    "- $RB$ = number of rotatable bonds \n",
    "- $AP$ = aromatic proportion (number of aromatic atoms / total number of heavy atoms).  \n",
    "\n",
    "[1]. Delaney, John S. “ESOL: estimating aqueous solubility directly from molecular structure.” Journal of chemical information and computer sciences 44.3 (2004): 1000-1005.\n",
    "\n",
    "Note: It is possible to derive much more features using for instance the `deepchem featurizer` or the `rdkit`. The deepchem featurizer creates fingerprints to be used as features\n",
    "\n",
    "To load the data run the cell below. Consider several inspections to familiarize yourself with the data"
   ]
  },
  {
   "cell_type": "code",
   "execution_count": 2,
   "metadata": {},
   "outputs": [
    {
     "data": {
      "text/html": [
       "<div>\n",
       "<style scoped>\n",
       "    .dataframe tbody tr th:only-of-type {\n",
       "        vertical-align: middle;\n",
       "    }\n",
       "\n",
       "    .dataframe tbody tr th {\n",
       "        vertical-align: top;\n",
       "    }\n",
       "\n",
       "    .dataframe thead th {\n",
       "        text-align: right;\n",
       "    }\n",
       "</style>\n",
       "<table border=\"1\" class=\"dataframe\">\n",
       "  <thead>\n",
       "    <tr style=\"text-align: right;\">\n",
       "      <th></th>\n",
       "      <th>MolLogP</th>\n",
       "      <th>MolWt</th>\n",
       "      <th>NumRotatableBonds</th>\n",
       "      <th>AromaticProportion</th>\n",
       "      <th>logS</th>\n",
       "    </tr>\n",
       "  </thead>\n",
       "  <tbody>\n",
       "    <tr>\n",
       "      <th>0</th>\n",
       "      <td>2.5954</td>\n",
       "      <td>167.850</td>\n",
       "      <td>0.0</td>\n",
       "      <td>0.0</td>\n",
       "      <td>-2.18</td>\n",
       "    </tr>\n",
       "    <tr>\n",
       "      <th>1</th>\n",
       "      <td>2.3765</td>\n",
       "      <td>133.405</td>\n",
       "      <td>0.0</td>\n",
       "      <td>0.0</td>\n",
       "      <td>-2.00</td>\n",
       "    </tr>\n",
       "  </tbody>\n",
       "</table>\n",
       "</div>"
      ],
      "text/plain": [
       "   MolLogP    MolWt  NumRotatableBonds  AromaticProportion  logS\n",
       "0   2.5954  167.850                0.0                 0.0 -2.18\n",
       "1   2.3765  133.405                0.0                 0.0 -2.00"
      ]
     },
     "metadata": {},
     "output_type": "display_data"
    }
   ],
   "source": [
    "# Load dataset for regression\n",
    "df_logS = pd.read_csv('https://raw.githubusercontent.com/dataprofessor/data/master/delaney_solubility_with_descriptors.csv')\n",
    "display(df_logS.head(2))"
   ]
  },
  {
   "cell_type": "markdown",
   "metadata": {},
   "source": [
    "---\n",
    "\n",
    "<a name='01'></a>\n",
    "## Part A. Data preparation \n",
    "\n",
    "For this assignment you need to construct from the data a feature matrix $X$ containing a number of features ($n$ columns in the dataset except the class variable) and its observations (the number of rows $m$). Furthermore you need the column containing the class variabele as a vector $y$. Next we need a vector containing the weights per feature (the $\\theta$ vector). This vector we initialize with zero. Later on we will calculate the best weights, but first we create an algorithm that calculates the error with the given weights. Lastly we need to add a first column with ones for the $\\theta_0$ compution. \n",
    "\n",
    "\n",
    "\\begin{equation}\n",
    "X = \n",
    "   \\begin{bmatrix} \\\n",
    "   1 & x_1^{(1)}  & x_2^{(1)} & .. & x_n^{(1)}\\\\\n",
    "   1 & x_1^{(2)}  & x_2^{(2)} & .. & x_n^{(2)}\\\\ \n",
    "   1 & x_1^{(3)}  & x_2^{(3)} & .. & x_n^{(3)} \\\\ \n",
    "   1 & .. & .. & .. & .. \\\\ \n",
    "   1 & x_1^{(m)}  & x_2^{(m)} & .. & x_n^{(m)} \\\\ \n",
    "   \\end{bmatrix} \n",
    "   \\\n",
    "   %\n",
    "   y = \n",
    "   \\begin{bmatrix} \\\n",
    "   y^{(1)} \\\\\n",
    "   y^{(2)} \\\\ \n",
    "   y^{(3)} \\\\ \n",
    "   .. \\\\ \n",
    "   y^{(m)} \\\\ \n",
    "   \\end{bmatrix} \n",
    "   %\n",
    "   \\\n",
    "   \\theta = \n",
    "   \\begin{bmatrix}\n",
    "    \\theta_0 & \\theta_1 & .. & \\theta_n \n",
    "  \\end{bmatrix}\n",
    "  %\n",
    "\\end{equation}\n",
    "\n",
    "\n",
    "See also Linear regression: https://video.hanze.nl/media/linear+regression/0_63duegik\n",
    "\n",
    "\n",
    "### <span style=\"background-color: lightyellow;\">Data preparation Task</span>\n",
    "- Slice the column, containing the class variable from the data to a vector $y$ \n",
    "- Slice the features columns into a matrix $X$. \n",
    "- add a column of 1's to the feature matrix $X$ (hint: use np.c_ and np.ones)\n",
    "- Create a $\\theta$ vector of size 1, $n + 1$ \n",
    "\n"
   ]
  },
  {
   "cell_type": "code",
   "execution_count": 3,
   "metadata": {},
   "outputs": [],
   "source": [
    "## Your code here to create X, y and 𝜃\n",
    "\n",
    "def data_preparation(data):\n",
    "    ### begin solution ###\n",
    "    X = data.iloc[:, :-1]\n",
    "    r, c = data.shape\n",
    "    y = np.array(data.iloc[:, -1])\n",
    "    X = np.c_[np.ones(r), X]\n",
    "    theta = np.zeros(X.shape[1], dtype=np.float64)\n",
    "    ### end solution ####\n",
    "    return X, y, theta"
   ]
  },
  {
   "cell_type": "code",
   "execution_count": 4,
   "metadata": {},
   "outputs": [
    {
     "name": "stdout",
     "output_type": "stream",
     "text": [
      "X (1144, 5) matrix\n",
      "y (1144,) vector\n",
      "𝜃 (5,) vector\n",
      "There are 5 features,  and 1144 observations\n",
      "\n",
      "this should be the outcome:\n",
      "\n",
      "X (1144, 5) matrix\n",
      "y (1144,) vector\n",
      "𝜃 (5,) vector\n",
      "There are 4 features,  and 1144 observations\n"
     ]
    }
   ],
   "source": [
    "#execute this cell to validate the outcome\n",
    "\n",
    "try: \n",
    "    X, y, theta = data_preparation(df_logS)\n",
    "    m, n = X.shape\n",
    "    print(\"X\", X.shape, \"matrix\")\n",
    "    print(\"y\", y.shape, \"vector\")\n",
    "    print(\"𝜃\", theta.shape, \"vector\")\n",
    "    print (f\"There are {n} features,  and {m} observations\")\n",
    "except:\n",
    "    print('This is not correct: create X, y, 𝜃 first')\n",
    "finally:\n",
    "    print('\\nthis should be the outcome:\\n')    \n",
    "    print('X (1144, 5) matrix')\n",
    "    print('y (1144,) vector')\n",
    "    print('𝜃 (5,) vector')\n",
    "    print('There are 4 features,  and 1144 observations')\n",
    "    \n"
   ]
  },
  {
   "cell_type": "markdown",
   "metadata": {},
   "source": [
    "<a name='02'></a>\n",
    "## Part B. Implement cost function\n",
    "\n",
    "The cost $J(\\theta)$ (the error) of a linear regression model is computed using the equation:\n",
    "\n",
    "$$ J(\\theta) = \\frac{1}{2m} \\sum_{i=1}^{m} ( h_\\theta(x^{(i)}) - y^{(i)} ) ^2$$\n",
    "\n",
    "\n",
    "where \n",
    "$$h_\\theta(x) = \\theta_0 + \\theta_1x_1 + \\theta_2x_2 + \\theta_3x_3 + ..\\theta_nx_n$$\n",
    "\n",
    "In which $J(\\theta)$ is the total cost calculated by the current weight values of $\\theta$; $h_\\theta(x)$ is the hypothesed value, the prediction, and $y$ is the actual value. $h_\\theta(x)$ is calculated for each observation $h_\\theta(x^{(i)})$ and compared to the actual value $y^{(i)}$. By adding up and eventually averaging the difference between these two values (hypotesis - actual) for each data observation, we arrive at the predictive value that the formula has with the current weight values of $\\theta$.\n",
    "\n",
    "\n",
    "\n",
    "To compute this we can use a naive loop or we can use the matrix computation functions included in Numpy, the so called vectorized implementation. \n",
    "\n",
    "### Naive loop implementation\n",
    "\n",
    "The naive loop implementation of calculating the error $J$ computes for each row $i$ the prediction $h$ which is substracted with the actual value ($h - y_i$) to get the difference between the actual value and the model value. The prediction is calculated using a for loop to compute the weight times the feature value for each feature according the equation $ h = \\theta_0 \\times 1 + \\theta_1 \\times x_1 + \\theta_2 \\times x_2 + ...\\theta_n \\times x_n$. The difference between the actual value and the model value is squared and averaged to estimate the average error of the model\n",
    "\n",
    "### Vectorized implemention\n",
    "\n",
    "For the hypothesis we can use a vectorized implementation: $ h_\\theta(x) = \\theta^T.X $\n",
    "\n",
    "\n",
    "See also \n",
    "https://video.hanze.nl/media/why_we_love_numpy.mov/0_npz2lx0a\n",
    "\n",
    "\n",
    "### <span style=\"background-color: lightyellow;\">Cost function Task</span>\n",
    "\n",
    "- implement the naive method to compute the cost\n",
    "- implement the vectorized method to compute the cost\n",
    "- use the method of preference to finish the compute cost function\n"
   ]
  },
  {
   "cell_type": "code",
   "execution_count": 5,
   "metadata": {},
   "outputs": [
    {
     "name": "stdout",
     "output_type": "stream",
     "text": [
      "Naive implementation\n",
      "Error: 6.871\n",
      "expected Error with theta initialized with zeros: 6.871\n",
      "Execution time 4.97e+06 nano seconds\n"
     ]
    }
   ],
   "source": [
    "#Pseudo code for naive implementation to compute j_val_nav\n",
    "print (\"Naive implementation\")\n",
    "start_time = time.time_ns()\n",
    "\n",
    "# REPLACE THE PSEUDO CODE WITH YOUR CODE\n",
    "\n",
    "# Initialize the cost variable to hold the cumulative error value\n",
    "J_val_nav = 0\n",
    "# cumulative_error = 0\n",
    "#Loop over each observation i from first observation to mth observation:\n",
    "for i in range(X.shape[0]):\n",
    "    # Get the i-th feature row (example)\n",
    "    # Initialize the prediction value for the current example with zero\n",
    "    h = 0\n",
    "    # Loop over each feature and its corresponding weight in theta\n",
    "    for j in range(X.shape[1]):\n",
    "        # add the the product of each weight and feature to the prediction value\n",
    "        h += theta[j] * X[i][j]\n",
    "    #Calculate the squared difference between the predicted value and actual value\n",
    "    square_error = (h - y[i]) ** 2\n",
    "    #Add the difference to accumulated error value\n",
    "    J_val_nav += square_error\n",
    "#Calculate the medf_logSan squared error (J_val_nav) by dividing the accumulated error by twice the number of examples\n",
    "J_val_nav = J_val_nav / (2 * X.shape[0])\n",
    "### begin solution ####\n",
    "### end solution ######\n",
    "\n",
    "\n",
    "\n",
    "end_time = time.time_ns()\n",
    "try: \n",
    "    print(f\"Error: {J_val_nav:0.3f}\")\n",
    "except:\n",
    "    print('incorrect: please calculate J_val_nav')\n",
    "finally:    \n",
    "    print('expected Error with theta initialized with zeros: 6.871')\n",
    "    print (f\"Execution time {end_time - start_time:0.2e} nano seconds\")\n",
    "\n"
   ]
  },
  {
   "cell_type": "code",
   "execution_count": 6,
   "metadata": {},
   "outputs": [
    {
     "name": "stdout",
     "output_type": "stream",
     "text": [
      "Vectorial implementation\n",
      "Error: 6.871\n",
      "expected Error with theta initialized with zeros: 6.871\n",
      "Execution time 4.05e+05 nano seconds\n"
     ]
    }
   ],
   "source": [
    "#Pseudo code for vectorized implementation to compute j_val_vec\n",
    "print (\"Vectorial implementation\")\n",
    "start_time = time.time_ns()\n",
    "\n",
    "# REPLACE THE PSEUDO CODE WITH YOUR CODE\n",
    "\n",
    "# 1.Determine the number of data points\n",
    "# 2.Determine the pdf_logSrediction \n",
    "# 3.Calculate the difference between this prediction and the actual value\n",
    "# 4.square this difference\n",
    "# 5.Add all these squares together and divide by twice the number of data points\n",
    "    \n",
    "### begin solution ####\n",
    "h = X @ theta.T\n",
    "square_errors = (h - y) ** 2\n",
    "J_val_vec = np.mean(square_errors)/2\n",
    "### end solution ######\n",
    "\n",
    "end_time = time.time_ns()\n",
    "try: \n",
    "    print (f\"Error: {J_val_vec:0.3f}\")\n",
    "except:\n",
    "    print('incorrect: please calculate J_val_vec')\n",
    "finally:    \n",
    "    print('expected Error with theta initialized with zeros: 6.871')\n",
    "    print (f\"Execution time {end_time - start_time:0.2e} nano seconds\")"
   ]
  },
  {
   "cell_type": "markdown",
   "metadata": {},
   "source": [
    "Once you are satisfied with your algorithm that computes the cost you can implement it in a function. "
   ]
  },
  {
   "cell_type": "code",
   "execution_count": 7,
   "metadata": {},
   "outputs": [],
   "source": [
    "def compute_cost(X, y, theta):\n",
    "    \"\"\"\n",
    "    This method calculates the cost of the current values of theta, that is, the extent to which the\n",
    "    prediction (given the specific value of theta) corresponds to the actual value (that\n",
    "    is given in y).\n",
    "\n",
    "    Every data point in X is multiplied by theta (which dimensions have X and thus theta transposed)\n",
    "    and the result of this is compared with the actual value (so with y). The difference between\n",
    "    these two values are squared and the total of all these squares is divided by it\n",
    "    number of data points to get the average. You must return this average (the variable\n",
    "    J: a number, in short).try: \n",
    "    # Run gradient descent\n",
    "    theta, J_history = gradient_descent(X_scaled, y, theta, alpha, num_iters)\n",
    "    # Final parameters\n",
    "    print(\"Theta:\", theta)\n",
    "    print(f\"Theta original: {reverse_theta(theta, scaler)} \")\n",
    "\n",
    "    # Final cost\n",
    "    print(\"Final cost:\", J_history[-1])\n",
    "    draw_costs(J_history)\n",
    "except:\n",
    "    print('something went wrong, try again')\n",
    "finally: \n",
    "    print('Expected outcome with zero initialized theta, alpha 0.01 and 10000 itterations:')\n",
    "    print('Final cost: 0.5')\n",
    "    print('Theta original: [ 0.25846249 -0.74029875 -0.00660125  0.00226283 -0.43112639]')\n",
    "\n",
    "    A pseudo algorithm could be the following:\n",
    "    1.Determine the number of data points\n",
    "    2.Determine the prediction         costs.append(computeCost(X, y, theta)) \n",
    "    3.Calculate the difference between this prediction and the actual value\n",
    "    4.square this difference\n",
    "    5.Add all these squares together and divide by twice the number of data points\n",
    "    \"\"\"\n",
    "\n",
    "    ### begin solution ####\n",
    "    h = X @ theta.T\n",
    "    square_errors = (h - y) ** 2\n",
    "    J_val_vec = np.mean(square_errors)/2\n",
    "    ### end solution ######\n",
    "    return J_val_vec\n"
   ]
  },
  {
   "cell_type": "markdown",
   "metadata": {},
   "source": [
    "<a name='03'></a>\n",
    "## Part C: implement gradient descent\n",
    "\n",
    "Next, you create the method `gradient_descent`. In this method a number of steps are performed, in each step the vector $ \\ theta $ is adjusted according to the formula below.\n",
    "\n",
    "$$ \\theta_j := \\theta_j - \\alpha \\frac{1}{m}\\sum_{i=1}^{m}(h_\\theta(x^{(i)}) - y^{(i)})x^{(i)}_j $$\n",
    "\n",
    "$ \\ Alpha $ is the learning speed (*learning rate*).\n",
    "If all goes well, every step in this method will cause the cost value $ J ( \\theta) $ to drop. Note that you edit all $ \\theta_j $ at the same time (in this case the size of $ \\theta$ is $5$, ($1$ for the intercept and $4$ for the features) so every iteration 5 parameters need to be adjusted). Also, make sure you <em> only </em> change the $ \\theta $: $X$ and $y$ are constant values that don't need to be changed.\n",
    "\n",
    "https://video.hanze.nl/media/gradient_descent/0_otuqf7wj\n",
    "\n",
    "Now finish the method `gradient_descent`, you also need to keep a list that tracks the cost of that specific iteration (the values of J) in the variable costs. We use this list to plot the cost function in the draw_costs function below to actually show the *gradual descent*. Make sure that the method `gradient_descent` returns two things: the final values of theta and the list of costs through the descent.\n",
    "\n",
    "### final note ###\n",
    "When the gradient descent function crashes because of computation errors you can use **scaled** $X$ matrix. This is a good practice anyhow. Make sure that you test the function with scaled X. Use the `reverse_theta()` to transform the terms back to the original non scaled situation. \n",
    "\n",
    "### <span style=\"background-color: lightyellow;\">Gradient descent Task</span>\n",
    "- scale X\n",
    "- complete the gradient_descent function\n",
    "- complete the test code to see the effect\n",
    "\n",
    "What will happen if you change the alpha and or the number of itterations?"
   ]
  },
  {
   "cell_type": "code",
   "execution_count": 8,
   "metadata": {},
   "outputs": [],
   "source": [
    "def gradient_descent(X, y, theta, alpha, num_iters):\n",
    "    \"\"\"\n",
    "    In this problem, every parameter of theta num_iter is updated times the optimal values\n",
    "    for these parameters. Per iteration you have to update all parameters of theta.\n",
    "\n",
    "    Each parameter of theta is reduced by the sum of the error of all data points\n",
    "    multiplied by the data point itself (see the formula above).\n",
    "    This sum itself is multiplied by the 'learning rate' alpha.\n",
    "\n",
    "    A possible step-by-step plan would be:\n",
    "\n",
    "    For every iteration from 1 to num_iters:\n",
    "        1. Determine the prediction for the data point, given the current value of theta\n",
    "        2. Determine the difference between this forecast and the true value\n",
    "        3. Multiply this difference by the ith value of X.\n",
    "        4. Update the ith parameter of theta, namely by decreasing it by\n",
    "        5. alpha times the mean of the sum of the multiplication from 3\n",
    "    \"\"\"\n",
    "    \n",
    "    # initialize list of costs\n",
    "    cost_history = [] \n",
    "    #YOUR CODE HERE\n",
    "    ### begin solution ####\n",
    "    m,n = X.shape\n",
    "    for _ in range(num_iters):\n",
    "        h = X @ theta.T\n",
    "        loss = h - y\n",
    "        grad = (X.T @ loss) / m\n",
    "        theta = theta - grad.T * alpha\n",
    "        cost_history.append(compute_cost(X, y, theta))\n",
    "    ### end solution ######        \n",
    "    return theta, cost_history"
   ]
  },
  {
   "cell_type": "markdown",
   "metadata": {},
   "source": [
    "---\n",
    "## Transfer scaled terms to original terms when used Standard Scaler\n",
    "When you perform linear regression on scaled data, the parameters (theta values) you obtain are in the context of the scaled features. To interpret these parameters in the context of the original (non-scaled) features, you need to transform them back.\n",
    "\n",
    "When you standardize a feature $X$, you transform it to $X' = \\frac{X - \\mu}{\\sigma}$, where $mu$ is the mean and $sigma$ is the standard deviation. The model with scaled features is $y = \\theta_0 + \\theta_1 X_1' + \\theta_2 X_2' + \\ldots$.\n",
    "\n",
    "**Intercept term**\n",
    "\n",
    "The intercept term needs special handling because it represents the bias term in the model. When scaling is applied, the mean of each feature plays a role in this term.\n",
    "The intercept adjustment formula can be derived as follows:\n",
    "\n",
    "- Substituting $X_i' = \\frac{X_i - \\mu_i}{\\sigma_i}$, you get:\n",
    "      $$y = \\theta_0 + \\theta_1 \\left(\\frac{X_1 - \\mu_1}{\\sigma_1}\\right) + \\theta_2 \\left(\\frac{X_2 - \\mu_2}{\\sigma_2}\\right) + \\ldots$$\n",
    "- Rearranging terms, the intercept $\\theta_0 $ needs to be adjusted to account for the means of the features:\n",
    "      $$\\theta_0 - \\sum \\left( \\frac{\\theta_i \\cdot \\mu_i}{\\sigma_i} \\right)$$\n",
    "\n",
    "Python: `theta_original[0] = theta_scaled[0] - np.sum((theta_scaled[1:] * scaler.mean_) / scaler.scale_)`\n",
    "\n",
    "**coefficients terms**\n",
    "\n",
    "The coefficients for the features can be transformed back by dividing by the scaling factors (standard deviations). This reverses the effect of scaling on these coefficients.\n",
    "\n",
    "Python: `theta_original[1:] = theta_scaled[1:] / scaler.scale_`\n",
    "\n",
    "\n",
    "\n",
    "\n",
    "\n"
   ]
  },
  {
   "cell_type": "code",
   "execution_count": 9,
   "metadata": {},
   "outputs": [],
   "source": [
    "def reverse_theta(theta, scaler):\n",
    "    \"\"\"\n",
    "    Transforms the theta parameters obtained from a regression model on scaled data \n",
    "    back to the original (non-scaled) feature space.\n",
    "\n",
    "    Parameters:\n",
    "    theta (numpy array): Array of theta parameters obtained from the regression model.\n",
    "    scaler (StandardScaler object): The scaler object used to scale the features.\n",
    "\n",
    "    Returns:\n",
    "    numpy array: transformed theta parameters in the context of the original, non-scaled features.\n",
    "    \n",
    "    The function performs the following steps:\n",
    "    1. Initializes a new array `theta_original` with the same shape as `theta`.\n",
    "    2. Corrects the intercept (theta[0]) to account for the means of the original features.\n",
    "    3. Adjusts the coefficients (theta[1:]) by reversing the effect of scaling using the standard deviations.\n",
    "    \"\"\"\n",
    "    #initialize\n",
    "    theta_original = np.zeros_like(theta)\n",
    "    #tranform back intercept\n",
    "    theta_original[0] = theta[0] - np.sum((theta[1:] * scaler.mean_) / scaler.scale_)\n",
    "    #transform back coefficients\n",
    "    theta_original[1:] = theta[1:] / scaler.scale_\n",
    "    \n",
    "    return theta_original\n"
   ]
  },
  {
   "cell_type": "markdown",
   "metadata": {},
   "source": [
    "## Test your code\n",
    "\n",
    "Congratulations! You've written the core of the linear regression function. Now, we can test the code using the Delaney dataset. Remember to scale the X matrix before running the tests."
   ]
  },
  {
   "cell_type": "markdown",
   "metadata": {},
   "source": [
    "---"
   ]
  },
  {
   "cell_type": "code",
   "execution_count": 10,
   "metadata": {},
   "outputs": [
    {
     "name": "stdout",
     "output_type": "stream",
     "text": [
      "Theta: [-3.05791615 -1.38111373 -0.67706895  0.00619397 -0.14764868]\n",
      "Theta original: [ 0.25819121 -0.74046928 -0.00660068  0.00235848 -0.43026806] \n",
      "Final cost: 0.5048052537512548\n"
     ]
    },
    {
     "data": {
      "image/png": "[encoded data removed]",
      "text/plain": [
       "<Figure size 640x480 with 1 Axes>"
      ]
     },
     "metadata": {},
     "output_type": "display_data"
    },
    {
     "name": "stdout",
     "output_type": "stream",
     "text": [
      "Expected outcome with zero initialized theta, alpha 0.01 and 10000 itterations:\n",
      "Final cost: 0.5\n",
      "Theta original: [ 0.25846249 -0.74029875 -0.00660125  0.00226283 -0.43112639]\n",
      "Theta calc [-3.05791615 -1.38111373 -0.67706895  0.00619397 -0.14764868]\n"
     ]
    }
   ],
   "source": [
    "# YOUR CODE HERE TO CREATE scaled_X, y and theta \n",
    "scaler = StandardScaler()\n",
    "\n",
    "# define X, y, theta, and scale X\n",
    "### begin solution ###\n",
    "X, y, theta = data_preparation(df_logS)\n",
    "scaler.fit(X[:,1:])\n",
    "X_scaled = scaler.transform(X[:,1:])\n",
    "X_scaled = np.c_[np.ones(len(y)), X_scaled]\n",
    "### end solution ####\n",
    "\n",
    "\n",
    "# Set hyperparameters\n",
    "alpha = 0.1  # Learning rate\n",
    "num_iters = 100  # Number of iterations\n",
    "\n",
    "try: \n",
    "    # Run gradient descent\n",
    "    theta, J_history = gradient_descent(X_scaled, y, theta, alpha, num_iters)\n",
    "\n",
    "    # Final parameters\n",
    "    print(\"Theta:\", theta)\n",
    "    print(f\"Theta original: {reverse_theta(theta, scaler)} \")\n",
    "\n",
    "    # Final cost\n",
    "    print(\"Final cost:\", J_history[-1])\n",
    "    draw_costs(J_history)\n",
    "except:\n",
    "    print('something went wrong, try again')\n",
    "finally: \n",
    "    print('Expected outcome with zero initialized theta, alpha 0.01 and 10000 itterations:')\n",
    "    print('Final cost: 0.5')\n",
    "    print('Theta original: [ 0.25846249 -0.74029875 -0.00660125  0.00226283 -0.43112639]')\n",
    "    print('Theta calc', theta)"
   ]
  },
  {
   "cell_type": "code",
   "execution_count": 11,
   "metadata": {},
   "outputs": [
    {
     "name": "stdout",
     "output_type": "stream",
     "text": [
      "0.5048052537512548\n",
      "[ 0.25819121 -0.74046928 -0.00660068  0.00235848 -0.43026806]\n"
     ]
    }
   ],
   "source": [
    "print(J_history[-1], reverse_theta(theta, scaler), sep='\\n')"
   ]
  },
  {
   "cell_type": "markdown",
   "metadata": {},
   "source": [
    "#### critical note\n",
    "\n",
    "The delaney formula differs. This should be addressed somewhere in the evaluation document"
   ]
  },
  {
   "cell_type": "markdown",
   "metadata": {},
   "source": [
    "---\n",
    "\n",
    "<a name='04'></a>\n",
    "## Part D: implement regularization\n",
    "\n",
    "Regularization works by adding the penalty term to the cost function used in linear regression. The penalty term controls the magnitude of the coefficients. The regularization term prevents the coefficients from becoming too large. \n",
    "\n",
    "There are three regularization methods. Lasso, Ridge and Elastic net\n",
    "The ridge regression formula is \n",
    "$$ J(\\theta) = \\frac{1}{2m} \\sum_{i=1}^{m} ( h_\\theta(x^{(i)}) - y^{(i)} ) ^2 + \\lambda \\sum_{j=1}^{m}\\theta_j^2$$\n",
    "\n",
    "where the regularization term is \n",
    "$$ \\lambda \\sum_{j=1}^{m}\\theta_j^2$$ \n",
    "\n",
    "In gradient descent, you update the parameters $theta_j$ (except for the intercept term) by subtracting the learning rate times the gradient. The update rules are as follows:\n",
    "\n",
    "$$\\theta_j := \\theta_j - \\alpha \\left( \\frac{1}{m} \\sum_{i=1}^{m} (h_\\theta(x^{(i)}) - y^{(i)}) x_j^{(i)} + \\frac{\\lambda}{m} \\theta_j \\right) \\quad \\text{for} \\; j \\geq 1\n",
    "$$\n",
    "\n",
    "$$\n",
    "\\theta_0 := \\theta_0 - \\alpha \\left( \\frac{1}{m} \\sum_{i=1}^{m} (h_\\theta(x^{(i)}) - y^{(i)}) \\right)\n",
    "$$\n",
    "\n",
    "\n",
    "\n",
    "A higher value of λ increases the penalty on the coefficients, effectively shrinking them towards zero but never exactly zero, thus preventing overfitting by reducing the model complexity. A lower value of λ reduces the impact of the regularization term, allowing the model to fit the data more closely, which could lead to overfitting if the model becomes too complex. λ = 1 is considered as moderate regularization.\n",
    "\n",
    "\n",
    "\n",
    "https://video.hanze.nl/media/regularization.m4v/0_cv10hwxn\n",
    "\n",
    "\n",
    "### <span style=\"background-color: lightyellow;\">Regularization Task</span>\n",
    "- update the `compute_cost` function and `gradient_descent` function with regularization (best is to copy the function to keep the original)\n",
    "- test the functions to see the effect\n",
    "\n",
    "---"
   ]
  },
  {
   "cell_type": "code",
   "execution_count": 12,
   "metadata": {},
   "outputs": [
    {
     "name": "stdout",
     "output_type": "stream",
     "text": [
      "Final cost: 0.35556621863457083\n",
      "Scaled theta [-3.01107779 -1.32404135 -0.68934473 -0.03529791 -0.19520984]\n",
      "Final theta: [ 0.33950403 -0.70987053 -0.00672036 -0.01344042 -0.56886768]\n"
     ]
    },
    {
     "data": {
      "image/png": "[encoded data removed]",
      "text/plain": [
       "<Figure size 640x480 with 1 Axes>"
      ]
     },
     "metadata": {},
     "output_type": "display_data"
    }
   ],
   "source": [
    "def compute_cost(X, y, theta, lambda_=1):\n",
    "    y_hat = X @ theta\n",
    "    error = y_hat - y\n",
    "    J = np.mean(lambda_ * error ** 2) / 2\n",
    "    return J\n",
    "\n",
    "def gradient_descent(X, y, theta, alpha=0.5, lambda_=1, epochs=50):\n",
    "    theta = theta.copy()\n",
    "    costs = []\n",
    "    m = y.size\n",
    "    for _ in range(epochs):\n",
    "        y_hat = X @ theta\n",
    "        error = y_hat - y\n",
    "        theta -= alpha/m * (X.T @ error + lambda_ * theta)\n",
    "        cost = compute_cost(X, y, theta, lambda_)\n",
    "        costs.append(cost)\n",
    "    return theta, costs\n",
    "\n",
    "## YOUR CODE HERE\n",
    "# prepare the data \n",
    "X, y, theta = data_preparation(df_logS)\n",
    "scaler.fit(X[:,1:])\n",
    "X_scaled = scaler.transform(X[:,1:])\n",
    "X_scaled = np.c_[np.ones(len(y)), X_scaled]\n",
    "\n",
    "# test the function\n",
    "# parameters\n",
    "alpha = 0.1\n",
    "epochs = 40\n",
    "lambda_ = 0.7\n",
    "theta = np.zeros(X.shape[1])\n",
    "\n",
    "# run functions\n",
    "theta, costs = gradient_descent(X_scaled, y, theta, alpha, lambda_, epochs)\n",
    "reversed_theta = reverse_theta(theta, scaler)\n",
    "# print and plot the results\n",
    "plt.plot(costs)\n",
    "plt.title(\"$J(t)$\")\n",
    "plt.ylabel(\"$J$\")\n",
    "plt.xlabel(\"$t$[iterations]\")\n",
    "plt.grid(True)\n",
    "print(f\"Final cost: {costs[-1]}\")\n",
    "print(f\"Scaled theta {theta}\")\n",
    "print(f\"Final theta: {reversed_theta}\")"
   ]
  },
  {
   "cell_type": "markdown",
   "metadata": {},
   "source": [
    "# Summary Regression\n",
    "By now you created code to compute the cost, the gradient_descent to update theta and you included a regularization factor. Best practise is to compose a regression class with all methods and parameters to set (learningrate, lambda, number of itterations), including some feedback methods (transfered back coefficients and cost function plot). Use a method `fit()` to create a linear regresssion model equation and `predict` to use the model. Evaluate the usage and performance of your model.  "
   ]
  },
  {
   "cell_type": "code",
   "execution_count": 13,
   "metadata": {},
   "outputs": [
    {
     "data": {
      "image/png": "[encoded data removed]",
      "text/plain": [
       "<Figure size 640x480 with 1 Axes>"
      ]
     },
     "metadata": {},
     "output_type": "display_data"
    },
    {
     "name": "stdout",
     "output_type": "stream",
     "text": [
      "Final cost: 0.45761011972935717\n",
      "Scaled theta: [-3.01058678 -1.32384471 -0.68929211 -0.03534184 -0.19522618]\n",
      "Final theta: [ 0.3396856  -0.70976511 -0.00671984 -0.01345715 -0.56891529]\n"
     ]
    }
   ],
   "source": [
    "# YOUR CLASS HERE\n",
    "class LinearRegression:\n",
    "    \n",
    "    theta = None\n",
    "    costs = None\n",
    "\n",
    "    def __repr__(self):\n",
    "        return f\"LinearRegression model, weights {self.theta}\"\n",
    "\n",
    "\n",
    "    def fit(self, X, y, alpha=0.5, lambda_=1, epochs=50):\n",
    "        self.theta, self.costs = self.gradient_descent(X, y, np.zeros(X.shape[1]),\n",
    "                                                       alpha=alpha,\n",
    "                                                       lambda_=lambda_,\n",
    "                                                       epochs=epochs)   \n",
    "    \n",
    "    def gradient_descent(self, X, y, theta, alpha=0.5, lambda_=1, epochs=50):\n",
    "        theta = theta.copy()\n",
    "        costs = []\n",
    "        m = y.size\n",
    "        for _ in range(epochs):\n",
    "            y_hat = X @ theta\n",
    "            error = y_hat - y\n",
    "            theta -= alpha/m * (X.T @ error + lambda_ * theta)\n",
    "            cost = self._compute_cost(error, lambda_)\n",
    "            costs.append(cost)\n",
    "        return theta, costs\n",
    "    \n",
    "    def compute_cost(self, X, y, theta, lambda_=1):\n",
    "        theta = theta.copy()\n",
    "        y_hat = X @ theta\n",
    "        error = y_hat - y\n",
    "        J = np.mean(lambda_ * error ** 2) / 2\n",
    "        return J\n",
    "    \n",
    "    def _compute_cost(self, error, lambda_):\n",
    "        return np.mean(lambda_ * error ** 2)/2\n",
    "    \n",
    "    def predict(self, X):\n",
    "        return X @ self.theta\n",
    "\n",
    "    def reverse_theta(self, scaler):\n",
    "        \"\"\"\n",
    "        Transforms the theta parameters obtained from a regression model on scaled data \n",
    "        back to the original (non-scaled) feature space.\n",
    "    \n",
    "        Parameters:\n",
    "        theta (numpy array): Array of theta parameters obtained from the regression model.\n",
    "        scaler (StandardScaler object): The scaler object used to scale the features.\n",
    "    \n",
    "        Returns:\n",
    "        numpy array: transformed theta parameters in the context of the original, non-scaled features.\n",
    "        \n",
    "        The function performs the following steps:\n",
    "        1. Initializes a new array `theta_original` with the same shape as `theta`.\n",
    "        2. Corrects the intercept (theta[0]) to account for the means of the original features.\n",
    "        3. Adjusts the coefficients (theta[1:]) by reversing the effect of scaling using the standard deviations.\n",
    "        \"\"\"\n",
    "        #initialize\n",
    "        theta_original = np.zeros_like(self.theta)\n",
    "        #tranform back intercept\n",
    "        theta_original[0] = self.theta[0] - np.sum((self.theta[1:] * scaler.mean_) / scaler.scale_)\n",
    "        #transform back coefficients\n",
    "        theta_original[1:] = self.theta[1:] / scaler.scale_\n",
    "        self.theta = theta_original\n",
    "        return self.theta\n",
    "\n",
    "# YOUR TEST CODE HERE\n",
    "# prepare the data \n",
    "X, y, theta = data_preparation(df_logS)\n",
    "scaler.fit(X[:,1:])\n",
    "X_scaled = scaler.transform(X[:,1:])\n",
    "X_scaled = np.c_[np.ones(len(y)), X_scaled]\n",
    "\n",
    "# test the function\n",
    "# parameters\n",
    "alpha = 0.1\n",
    "epochs = 40\n",
    "lambda_ = 0.9\n",
    "\n",
    "# run functions\n",
    "model = LinearRegression()\n",
    "model.fit(X_scaled, y, alpha, lambda_, epochs)\n",
    "costs = model.costs\n",
    "scaled_theta = model.theta\n",
    "# if data is scaled, reverse by passing the scaler to the object\n",
    "reversed_theta = model.reverse_theta(scaler)\n",
    "\n",
    "# print and plot the results\n",
    "plt.plot(costs)\n",
    "plt.title(\"$J(t)$\");plt.ylabel(\"$J$\");plt.xlabel(\"$t$[iterations]\")\n",
    "plt.grid(True)\n",
    "plt.show()\n",
    "print(f\"Final cost: {costs[-1]}\")\n",
    "print(f\"Scaled theta: {scaled_theta}\")\n",
    "print(f\"Final theta: {reversed_theta}\")"
   ]
  },
  {
   "cell_type": "markdown",
   "metadata": {},
   "source": [
    "---\n",
    "# Logistic Regression\n",
    "---\n",
    "<a name='051'></a>\n",
    "## Part E: Use case logistic regression\n",
    "\n",
    "The logistic regression use case in this notebook is based on data from the `ChemBL` database [2], a comprehensive resource that provides information on the bioactivity of small molecules and their biological targets. Specifically, we will focus on `CHEMBL2034`[2], which pertains to the Glucocorticoid Receptor (GR), a nuclear receptor that regulates gene expression in response to steroid hormones. The GR plays a critical role in various physiological processes, including inflammation, metabolism, and immune response.\n",
    "\n",
    "Understanding the bioactivity of compounds targeting the GR is essential for drug discovery and the development of therapeutics aimed at modulating its activity. The CHEMBL2034 dataset includes molecular structure data (SMILES) and bioactivity data. By analyzing structure-activity relationships (SAR), researchers can understand how modifications in a molecule's structure influence its bioactivity. This knowledge is crucial for optimizing drug candidates. In this use case we will predict if the molecule developes significant bioactivity or not.  \n",
    "\n",
    "To use the ChemBL database we can use the chembl_webresource_client API. The API fetches bioactivity data for compounds targeting the GR, filtered by IC50 values. Fields from the dataset we will work with are the `canonical_smiles` providing the molecular structure, and `standard_value` (IC50) which is used to determine bioactivity. We transfer bioactivity to 0 or 1, in order to use it as a class. The `rdkit` (rdkit.org/docs) [4] can be used to compute features from the SMILE structure. \n",
    "\n",
    "SMILES (Simplified Molecular Input Line Entry System): A notation that provides a way to describe a molecule's structure using a string of text\n",
    "\n",
    "[2] Gaulton, A., et all, 2012. ChEMBL: a large-scale bioactivity database for drug discovery. Nucleic acids research, 40(D1), pp.D1100-D1107.<br></br>\n",
    "[3] Landrum, G., 2013. Rdkit documentation. Release, 1(1-79), p.4.\n",
    "\n",
    "\n",
    "### <span style=\"background-color: lightyellow;\">Data preperation Task</span>\n",
    "\n",
    "- **Review the Script:** Carefully examine the script provided below to understand how the data is featurized. There is no need to execute the code; focus on grasping the transformation and feature extraction processes involved.\n",
    "\n",
    "- **Load the Data:** Download the `CHEMBL2034.csv` file from Blackboard and load it into this notebook.\n",
    "- Conduct a thorough **inspection** of the dataset to familiarize yourself with its structure and contents. \n",
    "- **Data Cleaning:** Based on your inspections, perform the necessary data cleaning steps to ensure the dataset is ready for analysis. \n"
   ]
  },
  {
   "cell_type": "markdown",
   "metadata": {},
   "source": [
    "```### CODE THAT WAS USED TO PREPARE THE DATA FILE \n",
    "# imports to retrieve data from chemBL\n",
    "from chembl_webresource_client.new_client import new_client\n",
    "from rdkit import Chem\n",
    "from rdkit.Chem import Descriptors\n",
    "\n",
    "# Initialize the ChEMBL client\n",
    "chembl = new_client\n",
    "\n",
    "target_chembl_id = 'CHEMBL2034' #Glucocorticoid receptor targets\n",
    "\n",
    "# Get bioactivity data for the target\n",
    "activity = chembl.activity.filter(target_chembl_id=target_chembl_id, standard_type='IC50')\n",
    "\n",
    "# Convert to DataFrame\n",
    "import pandas as pd\n",
    "df_activity = pd.DataFrame(activity)\n",
    "display(df_activity.head(2))\n",
    "\n",
    "# Select relevant columns and drop rows with missing values\n",
    "df_activity = df_activity[['molecule_chembl_id', 'canonical_smiles', 'standard_value']]\n",
    "df_activity.dropna(inplace=True)\n",
    "\n",
    "# Convert IC50 values to binary labels (active if IC50 < 1000 nM, inactive otherwise)\n",
    "df_activity['bioactivity_label'] = df_activity['standard_value'].apply(lambda x: 1 if float(x) < 1000 else 0)\n",
    "\n",
    "display(df_activity.head(2))\n",
    "\n",
    "# Function to calculate molecular descriptors for smiles\n",
    "def calculate_descriptors(smiles):\n",
    "    mol = Chem.MolFromSmiles(smiles)\n",
    "    descriptors = {\n",
    "        'MolecularWeight': Descriptors.MolWt(mol),\n",
    "        'NumHDonors': Descriptors.NumHDonors(mol),\n",
    "        'NumHAcceptors': Descriptors.NumHAcceptors(mol),\n",
    "        'TPSA': Descriptors.TPSA(mol)\n",
    "    }\n",
    "    return pd.Series(descriptors)\n",
    "\n",
    "# Calculate descriptors for each molecule\n",
    "df_descriptors = df_activity['canonical_smiles'].apply(calculate_descriptors)\n",
    "df_GR= pd.concat([df_descriptors, df_activity], axis=1)\n",
    "df_GR.drop(columns=['standard_value', 'molecule_chembl_id'], inplace=True)\n",
    "\n",
    "print('final dataframe')\n",
    "display(df_GR.head(2))\n",
    "df_GR.to_csv('CHEMBL2034.csv',index=False)```"
   ]
  },
  {
   "cell_type": "code",
   "execution_count": 14,
   "metadata": {},
   "outputs": [
    {
     "data": {
      "text/html": [
       "<div>\n",
       "<style scoped>\n",
       "    .dataframe tbody tr th:only-of-type {\n",
       "        vertical-align: middle;\n",
       "    }\n",
       "\n",
       "    .dataframe tbody tr th {\n",
       "        vertical-align: top;\n",
       "    }\n",
       "\n",
       "    .dataframe thead th {\n",
       "        text-align: right;\n",
       "    }\n",
       "</style>\n",
       "<table border=\"1\" class=\"dataframe\">\n",
       "  <thead>\n",
       "    <tr style=\"text-align: right;\">\n",
       "      <th></th>\n",
       "      <th>MolecularWeight</th>\n",
       "      <th>NumHDonors</th>\n",
       "      <th>NumHAcceptors</th>\n",
       "      <th>TPSA</th>\n",
       "      <th>canonical_smiles</th>\n",
       "      <th>bioactivity_label</th>\n",
       "    </tr>\n",
       "  </thead>\n",
       "  <tbody>\n",
       "    <tr>\n",
       "      <th>0</th>\n",
       "      <td>389.495</td>\n",
       "      <td>1.0</td>\n",
       "      <td>3.0</td>\n",
       "      <td>21.26</td>\n",
       "      <td>CC1=CC(C)(C)Nc2ccc3c(c21)/C(=C/c1ccsc1)Oc1ccc(...</td>\n",
       "      <td>1</td>\n",
       "    </tr>\n",
       "    <tr>\n",
       "      <th>1</th>\n",
       "      <td>411.520</td>\n",
       "      <td>1.0</td>\n",
       "      <td>2.0</td>\n",
       "      <td>21.26</td>\n",
       "      <td>CCc1ccccc1/C=C1\\Oc2ccc(F)cc2-c2ccc3c(c21)C(C)=...</td>\n",
       "      <td>1</td>\n",
       "    </tr>\n",
       "    <tr>\n",
       "      <th>2</th>\n",
       "      <td>426.535</td>\n",
       "      <td>1.0</td>\n",
       "      <td>3.0</td>\n",
       "      <td>24.50</td>\n",
       "      <td>CC1=CC(C)(C)Nc2ccc3c(c21)/C(=C/c1ccccc1N(C)C)O...</td>\n",
       "      <td>1</td>\n",
       "    </tr>\n",
       "    <tr>\n",
       "      <th>3</th>\n",
       "      <td>383.466</td>\n",
       "      <td>1.0</td>\n",
       "      <td>2.0</td>\n",
       "      <td>21.26</td>\n",
       "      <td>CC1=CC(C)(C)Nc2ccc3c(c21)/C(=C/c1ccccc1)Oc1c(F...</td>\n",
       "      <td>1</td>\n",
       "    </tr>\n",
       "    <tr>\n",
       "      <th>4</th>\n",
       "      <td>386.532</td>\n",
       "      <td>0.0</td>\n",
       "      <td>4.0</td>\n",
       "      <td>60.44</td>\n",
       "      <td>CC(=O)O[C@]1(C(C)=O)CC[C@H]2[C@@H]3C[C@H](C)C4...</td>\n",
       "      <td>1</td>\n",
       "    </tr>\n",
       "  </tbody>\n",
       "</table>\n",
       "</div>"
      ],
      "text/plain": [
       "   MolecularWeight  NumHDonors  NumHAcceptors   TPSA  \\\n",
       "0          389.495         1.0            3.0  21.26   \n",
       "1          411.520         1.0            2.0  21.26   \n",
       "2          426.535         1.0            3.0  24.50   \n",
       "3          383.466         1.0            2.0  21.26   \n",
       "4          386.532         0.0            4.0  60.44   \n",
       "\n",
       "                                    canonical_smiles  bioactivity_label  \n",
       "0  CC1=CC(C)(C)Nc2ccc3c(c21)/C(=C/c1ccsc1)Oc1ccc(...                  1  \n",
       "1  CCc1ccccc1/C=C1\\Oc2ccc(F)cc2-c2ccc3c(c21)C(C)=...                  1  \n",
       "2  CC1=CC(C)(C)Nc2ccc3c(c21)/C(=C/c1ccccc1N(C)C)O...                  1  \n",
       "3  CC1=CC(C)(C)Nc2ccc3c(c21)/C(=C/c1ccccc1)Oc1c(F...                  1  \n",
       "4  CC(=O)O[C@]1(C(C)=O)CC[C@H]2[C@@H]3C[C@H](C)C4...                  1  "
      ]
     },
     "execution_count": 14,
     "metadata": {},
     "output_type": "execute_result"
    }
   ],
   "source": [
    "df_GR = pd.read_csv(\"CHEMBL2034.csv\")\n",
    "df_GR.head()"
   ]
  },
  {
   "cell_type": "markdown",
   "metadata": {},
   "source": [
    "---\n",
    "\n",
    "<a name='05'></a>\n",
    "## Part F: implement logistic regression\n",
    "\n",
    "Logistic regression uses the logistic function (sigmoid function) to map predicted values to probabilities. The logistic function is defined as:\n",
    "\n",
    "$$ g (z) = \\frac {1} {1 + e ^ {- z}} $$\n",
    "\n",
    "where $z$ is the linear combination of the input features, similar to linear regression\n",
    "$$z = \\theta_0 + \\theta_1 x_1 + \\theta_2 x_2 + \\ldots + \\theta_n x_n$$\n",
    "\n",
    "\n",
    "\n",
    "The terms (intercept and coefficients) are also calculated with a `compute_cost` function and `gradient_descent` function, but the coefficients are calculated differently. In logistic regression, coefficients represent the log odds. Positive coefficients increase the log odds of the outcome being 1, while negative coefficients decrease the log odds. \n",
    "\n",
    "The cost function is computed as:\n",
    "\n",
    "$$\n",
    "J(\\theta) = -\\frac{1}{m} \\sum_{i=1}^{m} \\left[ y^{(i)} \\log(h_\\theta(x^{(i)})) + (1 - y^{(i)}) \\log(1 - h_\\theta(x^{(i)})) \\right] + \\frac{\\lambda}{2m} \\sum_{j=1}^{n} \\theta_j^2 \n",
    "$$\n",
    "\n",
    "in python\n",
    "```{python}\n",
    "h = sigmoid(X.dot(theta))\n",
    "cost = -1 / m * (y.dot(np.log(h)) + (1 - y).dot(np.log(1 - h)))\n",
    "```\n",
    "\n",
    "\n",
    "and the gradient descent is computed for the intercept term ($\\theta_0$):\n",
    "\n",
    "  $$\n",
    "  \\theta_0 := \\theta_0 - \\alpha \\frac{1}{m} \\sum_{i=1}^{m} (h_\\theta(x^{(i)}) - y^{(i)})\n",
    "  $$\n",
    "\n",
    "and for the other parameters ($\\theta_j$ where $j \\geq 1$) (including regularization):\n",
    "\n",
    "  $$\n",
    "  \\theta_j := \\theta_j - \\alpha \\cdot \\left( \\frac{1}{m} \\sum_{i=1}^{m} (h_\\theta(x^{(i)}) - y^{(i)}) x_j^{(i)} + \\frac{\\lambda}{m} \\theta_j \\right)\n",
    "  $$\n",
    "\n",
    "where $h$ again is the result of the sigmoid function. The gradients for logistic regression and regression are similar, but the prediction $h_\\theta(x^{(i)})$ is the output of the sigmoid function rather than a linear output. Basically it is a probability rather than a direct numeric prediction.\n",
    "\n",
    "The output of logistic regression can be interpreted as the probability of the target variable being 1. This probability can be converted into a binary decision by setting a threshold \n",
    "Commonly, a threshold of 0.5 is used, where:\n",
    "- If $P(y=1|x) \\geq 0.5$, classify as 1.\n",
    "- If $P(y=1|x) < 0.5$, classify as 0.\n",
    "\n",
    "### <span style=\"background-color: lightyellow;\">Logistic regression Task</span>\n",
    "\n",
    "- Implement the `sigmoid` function in the cell below. Make it so that you can add both a number and a vector to it. In the first case, the function must return the sigmoid value of the number, in the second case it must return a vector containing the sigmoid value of each individual element in the input vector. You can use the numpy function `exp()`.\n",
    "- Complete `compute_cost` and `gradient_descent` function for logistic regression\n",
    "- Complete the `predict` function. \n",
    "- Test your code \n"
   ]
  },
  {
   "cell_type": "code",
   "execution_count": 15,
   "metadata": {},
   "outputs": [
    {
     "data": {
      "image/png": "[encoded data removed]",
      "text/plain": [
       "<Figure size 800x600 with 1 Axes>"
      ]
     },
     "metadata": {},
     "output_type": "display_data"
    }
   ],
   "source": [
    "# Dave's implementation\n",
    "sigmoid = np.vectorize(lambda x:\n",
    "                       1.0 / (1.0 + np.exp(-x))\n",
    "                       if x > 0 else \n",
    "                       np.exp(x) / (1.0 + np.exp(x)))\n",
    "\n",
    "#code to validate function\n",
    "try:    \n",
    "    nums = np.arange(-10, 10, step=.5)\n",
    "    fig, ax = plt.subplots(figsize=(8,6))\n",
    "    ax.plot(nums, sigmoid(nums), 'r')\n",
    "except:\n",
    "    print('make sure that the sigmoid function returns the sigmod')"
   ]
  },
  {
   "cell_type": "markdown",
   "metadata": {},
   "source": [
    "Now we can use the sigmoid function in the other functions. Complete the functions below"
   ]
  },
  {
   "cell_type": "code",
   "execution_count": 16,
   "metadata": {},
   "outputs": [],
   "source": [
    "def compute_cost(X, y, theta, lambda_):\n",
    "    \"\"\"\n",
    "    Compute cost for logistic regression with regularization.\n",
    "\n",
    "    Parameters:\n",
    "    X:  Input feature matrix (m x n)\n",
    "    y: True labels vector (m,)\n",
    "    theta: Parameters vector (n,)\n",
    "    lambda_: Regularization parameter\n",
    "\n",
    "    Return:\n",
    "    J:Cost value\n",
    "    \"\"\"\n",
    "    # parameters\n",
    "    epsilon = 1e-15\n",
    "    m = len(y)\n",
    "\n",
    "    # step 1: Predition\n",
    "    y_hat = sigmoid(X @ theta)\n",
    "    y_hat = np.clip(y_hat, epsilon, 1-epsilon) # claude.ai suggestion to prevent log(0)\n",
    "\n",
    "    # step 2: Calculate cost\n",
    "    cost = -np.mean(y * np.log(y_hat) + (1 - y) * np.log(1 - y_hat))\n",
    "\n",
    "    # step 3: Calculate regularization term\n",
    "    reg_term = (lambda_/(2*m)) * np.sum(theta[1:] ** 2)\n",
    "    \n",
    "    # step 4: Add regularization term to calculated cost\n",
    "    J = cost + reg_term\n",
    "    return J \n",
    "\n",
    "\n",
    "def gradient_descent(X, y, theta, alpha, num_iters, lambda_):\n",
    "    \"\"\"\n",
    "    Perform gradient descent to find optimal theta.\n",
    "\n",
    "    Parameters:\n",
    "    X: Input feature matrix (m x n)\n",
    "    y: True labels vector (m,)\n",
    "    theta: Initial parameters vector (n,)\n",
    "    alpha: Learning rate\n",
    "    num_iters: Number of iterations\n",
    "    lambda_:  Regularization parameter\n",
    "\n",
    "    Return:\n",
    "    theta:  Updated parameters vector\n",
    "    J_history:  History of cost values\n",
    "    \"\"\"\n",
    "    theta = theta.copy()\n",
    "    m = y.size\n",
    "    costs = []\n",
    "\n",
    "    for _ in range(num_iters):\n",
    "        # Step 1: Initial prediction\n",
    "        z = X @ theta\n",
    "        y_hat = sigmoid(z)  # sigmoid moved here for clarity\n",
    "        \n",
    "        # Step 2: Compute gradients\n",
    "        error = y_hat - y\n",
    "        gradients = (1/m) * X.T @ error\n",
    "        \n",
    "        # Add regularization term to gradients (excluding bias term)\n",
    "        gradients[1:] += (lambda_/m) * theta[1:]\n",
    "        \n",
    "        # Step 3: Update parameters\n",
    "        theta -= alpha * gradients\n",
    "        \n",
    "        # Step 4: Compute cost\n",
    "        J = compute_cost(X, y, theta, lambda_)\n",
    "        costs.append(J)\n",
    "\n",
    "    return theta, costs\n",
    " \n",
    "\n",
    "def predict(X, theta, threshold=0.5):\n",
    "    \"\"\"\n",
    "    Predict whether the label is 0 or 1 using learned logistic regression parameters theta.\n",
    "\n",
    "    Parameters:\n",
    "    X: Input feature matrix (m x n)\n",
    "    theta: Parameters vector (n,) (computed by compute cost and gradient descentl)\n",
    "    threshold: Threshold for prediction\n",
    "\n",
    "    Return:\n",
    "    p: Predicted labels vector (m,)\n",
    "    \"\"\"\n",
    "    return sigmoid(X @ theta)\n",
    "\n",
    "\n",
    "#BONUS\n",
    "def predict_proba():\n",
    "    #adjust and complete this function\n",
    "    pass\n"
   ]
  },
  {
   "cell_type": "code",
   "execution_count": 17,
   "metadata": {},
   "outputs": [
    {
     "name": "stdout",
     "output_type": "stream",
     "text": [
      "<class 'pandas.core.frame.DataFrame'>\n",
      "RangeIndex: 3401 entries, 0 to 3400\n",
      "Data columns (total 6 columns):\n",
      " #   Column             Non-Null Count  Dtype  \n",
      "---  ------             --------------  -----  \n",
      " 0   MolecularWeight    3401 non-null   float64\n",
      " 1   NumHDonors         3401 non-null   float64\n",
      " 2   NumHAcceptors      3401 non-null   float64\n",
      " 3   TPSA               3401 non-null   float64\n",
      " 4   canonical_smiles   3401 non-null   object \n",
      " 5   bioactivity_label  3401 non-null   int64  \n",
      "dtypes: float64(4), int64(1), object(1)\n",
      "memory usage: 159.6+ KB\n"
     ]
    },
    {
     "data": {
      "text/plain": [
       "None"
      ]
     },
     "metadata": {},
     "output_type": "display_data"
    }
   ],
   "source": [
    "data = df_GR\n",
    "display(data.info())"
   ]
  },
  {
   "cell_type": "code",
   "execution_count": 18,
   "metadata": {},
   "outputs": [],
   "source": [
    "def accuracy(y_true, y_pred):\n",
    "    \"\"\"\n",
    "    Calculate classification accuracy.\n",
    "    \n",
    "    Parameters:\n",
    "    y_true: array-like, true labels\n",
    "    y_pred: array-like, predicted labels (must be same shape as y_true)\n",
    "    \n",
    "    Returns:\n",
    "    float: accuracy score between 0 and 1\n",
    "    \"\"\"\n",
    "    # Convert predictions to binary using threshold\n",
    "    y_pred_binary = (y_pred >= 0.5).astype(int)\n",
    "    \n",
    "    # Calculate accuracy using numpy\n",
    "    acc = np.mean(y_true == y_pred_binary)\n",
    "    \n",
    "    return acc"
   ]
  },
  {
   "cell_type": "code",
   "execution_count": 19,
   "metadata": {},
   "outputs": [
    {
     "data": {
      "image/png": "[encoded data removed]",
      "text/plain": [
       "<Figure size 640x480 with 1 Axes>"
      ]
     },
     "metadata": {},
     "output_type": "display_data"
    },
    {
     "name": "stdout",
     "output_type": "stream",
     "text": [
      "error:0.44440497626150716\n",
      "accuracy: 0.8100558659217877\n",
      "Depending on hyperparameters accuracy should be around 0.75 +/- 1\n"
     ]
    }
   ],
   "source": [
    "#YOUR CODE HERE TO PREPARE X_scaled, y, theta\n",
    "# prepare the data \n",
    "X = data.iloc[:,[0, 1, 2, 3, 5]]\n",
    "smiles = data['canonical_smiles']\n",
    "X, y, theta = data_preparation(X)\n",
    "\n",
    "scaler = StandardScaler()\n",
    "scaler.fit(X[:,1:])\n",
    "X_scaled = scaler.transform(X[:,1:])\n",
    "X_scaled = np.c_[np.ones(len(y)), X_scaled]\n",
    "\n",
    "# Set hyperparameters, adjust to imporve\n",
    "alpha = 0.5  # Learning rate\n",
    "num_iters = 1000  # Number of iterations\n",
    "lambda_ = 0.7  # Regularization parameter\n",
    "\n",
    "try: \n",
    "    # Train the model\n",
    "    theta, J_history = gradient_descent(X_scaled, y, theta, alpha, num_iters, lambda_)\n",
    "    \n",
    "    # Make predictions\n",
    "    predictions = predict(X_scaled, theta)\n",
    "    \n",
    "    # Evaluate the model\n",
    "    acc = accuracy(y, predictions)\n",
    "    plt.plot(J_history)\n",
    "    plt.show()\n",
    "    print(f'error:{J_history[-1]}')\n",
    "    print(f\"accuracy: {acc}\")\n",
    "except: \n",
    "    print('something is wrong')\n",
    "finally:\n",
    "    print('Depending on hyperparameters accuracy should be around 0.75 +/- 1')\n"
   ]
  },
  {
   "cell_type": "markdown",
   "metadata": {},
   "source": [
    "<a name='06'></a>\n",
    "## Part G: compare with sklearn\n",
    "\n",
    "Scikit-Learn, often referred to as sklearn, is a powerful and widely-used open-source machine learning library for Python. It contains regression models as well. \n",
    "See https://scikit-learn.org/stable/modules/generated/sklearn.linear_model.LinearRegression.html and \n",
    "https://scikit-learn.org/stable/modules/generated/sklearn.linear_model.LogisticRegression.html\n",
    "\n",
    "\n",
    "### <span style=\"background-color: lightyellow;\">Evaluation Task</span>\n",
    "Compare the performance (error) and coefficients (theta values) of your regression model to the error and coefficients of the sklearn regression model. \n",
    "\n",
    "Next compare the performance  of your logistic regression model to your own developed model. As a minimum compare accuracy.\n",
    "https://scikit-learn.org/stable/modules/generated/sklearn.metrics.accuracy_score.html\n",
    "\n",
    "### Notes: \n",
    "Best practise is to split your data into a train set and test set. <br></br>\n",
    "The models differ from the original delaney paper. Can you think of any reason? \n",
    "\n",
    "\n",
    "\n",
    "\n"
   ]
  },
  {
   "cell_type": "code",
   "execution_count": 20,
   "metadata": {},
   "outputs": [],
   "source": [
    "from sklearn.model_selection import train_test_split\n",
    "from sklearn.metrics import accuracy_score\n",
    "# Create train test split\n",
    "X_train, X_test, y_train, y_test = train_test_split(X_scaled, y, test_size=0.25, random_state=16)"
   ]
  },
  {
   "cell_type": "markdown",
   "metadata": {},
   "source": [
    "## Comparison of `sci-kit` regressor and my own Linear regression model\n",
    "Comparing $\\theta$ of each model shows similar parameters per $X_i$. However for the first parameter of my own model the value is negative instead of positive when comparing to the `sklearn.Ridge model`. If I test the $R^2$ of both models the amount of variance explained by this model is comparable and it is not very good for either. At least mine is equally as bad. Evidently I've sneaked in a sign error somewhere in the code, however I wasn't able to find it."
   ]
  },
  {
   "cell_type": "code",
   "execution_count": 21,
   "metadata": {},
   "outputs": [],
   "source": [
    "# parameters\n",
    "l2 = 1\n",
    "alpha = 0.01\n",
    "num_iters = 4000"
   ]
  },
  {
   "cell_type": "code",
   "execution_count": 22,
   "metadata": {},
   "outputs": [],
   "source": [
    "model = LinearRegression()\n",
    "model.fit(X_train, y_train, alpha=alpha, lambda_=l2, epochs=num_iters)\n",
    "costs = model.costs"
   ]
  },
  {
   "cell_type": "code",
   "execution_count": 23,
   "metadata": {},
   "outputs": [],
   "source": [
    "from sklearn.linear_model import LinearRegression as sk_LinearRegression"
   ]
  },
  {
   "cell_type": "code",
   "execution_count": 24,
   "metadata": {},
   "outputs": [
    {
     "data": {
      "text/plain": [
       "array([-0.40909007,  0.00081098,  0.16361118,  0.07897035, -0.00825022])"
      ]
     },
     "execution_count": 24,
     "metadata": {},
     "output_type": "execute_result"
    }
   ],
   "source": [
    "sk_model = sk_LinearRegression()\n",
    "sk_model.fit(X_train, y_train)\n",
    "reverse_theta(sk_model.coef_, scaler)"
   ]
  },
  {
   "cell_type": "code",
   "execution_count": 25,
   "metadata": {},
   "outputs": [
    {
     "data": {
      "image/png": "[encoded data removed]",
      "text/plain": [
       "<Figure size 640x480 with 1 Axes>"
      ]
     },
     "metadata": {},
     "output_type": "display_data"
    },
    {
     "name": "stdout",
     "output_type": "stream",
     "text": [
      "final cost 0.07820876246665992\n",
      "final theta [ 0.35401341  0.00081947  0.16043472  0.07427256 -0.007934  ]\n"
     ]
    }
   ],
   "source": [
    "plt.plot(costs)\n",
    "plt.title(\"Learning curve of my linear regression implementation\")\n",
    "plt.show()\n",
    "print(f\"final cost {costs[-1]}\")\n",
    "print(f\"final theta {reverse_theta(model.theta, scaler)}\")"
   ]
  },
  {
   "cell_type": "code",
   "execution_count": 26,
   "metadata": {},
   "outputs": [
    {
     "name": "stdout",
     "output_type": "stream",
     "text": [
      "0.11637851888122774 0.11712780928090005\n"
     ]
    }
   ],
   "source": [
    "from sklearn.metrics import r2_score\n",
    "m_preds = model.predict(X_test)\n",
    "sk_preds = sk_model.predict(X_test)\n",
    "m_r2 = r2_score(y_test, m_preds)\n",
    "sk_r2 = r2_score(y_test, sk_preds)\n",
    "print(m_r2, sk_r2)"
   ]
  },
  {
   "cell_type": "code",
   "execution_count": 27,
   "metadata": {},
   "outputs": [
    {
     "data": {
      "image/png": "[encoded data removed]",
      "text/plain": [
       "<Figure size 640x480 with 1 Axes>"
      ]
     },
     "metadata": {},
     "output_type": "display_data"
    }
   ],
   "source": [
    "xs = np.linspace(-10, 10, 201)\n",
    "psk = np.poly1d(reverse_theta(sk_model.coef_, scaler))\n",
    "pjg = np.poly1d(reverse_theta(model.theta, scaler))\n",
    "plt.plot(psk(xs), label=\"sk-learn $\\\\theta_k$\")\n",
    "plt.plot(pjg(xs), label=\"JG-learn $\\\\theta_k$\")\n",
    "plt.grid(True)\n",
    "plt.legend()\n",
    "plt.show()"
   ]
  },
  {
   "cell_type": "code",
   "execution_count": 28,
   "metadata": {},
   "outputs": [],
   "source": [
    "class LogisticRegression:\n",
    "    \n",
    "    theta = None\n",
    "    costs = None\n",
    "    sigmoid = np.vectorize(lambda x:\n",
    "                           1.0 / (1.0 + np.exp(-x))\n",
    "                           if x > 0 else \n",
    "                           np.exp(x) / (1.0 + np.exp(x)))\n",
    "\n",
    "    def __repr__(self):\n",
    "        return f\"LogisticRegression model, weights {self.theta}\"\n",
    "\n",
    "\n",
    "    def fit(self, X, y, alpha=0.5, lambda_=1, epochs=50):\n",
    "        self.theta, self.costs = self.gradient_descent(X, y,\n",
    "                                                       theta=np.zeros(X.shape[1]),\n",
    "                                                       alpha=alpha,\n",
    "                                                       lambda_=lambda_,\n",
    "                                                       epochs=epochs)   \n",
    "    \n",
    "    def gradient_descent(self, X, y, theta,\n",
    "                         alpha=0.1, lambda_=0.1, epochs=50):\n",
    "        \"\"\"\n",
    "        Gradient descent for logistic regression with L2 regularization\n",
    "        \"\"\"\n",
    "        theta = theta.copy()\n",
    "        m = y.size\n",
    "        costs = []\n",
    "\n",
    "        for _ in range(epochs):\n",
    "            # Step 1: Initial prediction\n",
    "            z = X @ theta\n",
    "            y_hat = self.sigmoid(z)  # sigmoid moved here for clarity\n",
    "            \n",
    "            # Step 2: Compute gradients\n",
    "            error = y_hat - y\n",
    "            gradients = (1/m) * X.T @ error\n",
    "            \n",
    "            # Add regularization term to gradients (excluding bias term)\n",
    "            gradients[1:] += (lambda_/m) * theta[1:]\n",
    "            \n",
    "            # Step 3: Update parameters\n",
    "            theta -= alpha * gradients\n",
    "            \n",
    "            # Step 4: Compute cost\n",
    "            J = self.compute_cost(X, y, theta, lambda_)\n",
    "            costs.append(J)\n",
    "\n",
    "        return theta, costs\n",
    "\n",
    "\n",
    "    def compute_cost(self, X, y, theta, lambda_):\n",
    "        # parameters\n",
    "        epsilon = 1e-15\n",
    "        m = len(y)\n",
    "\n",
    "        # step 1: Predition\n",
    "        y_hat = self.sigmoid(X @ theta)\n",
    "        # claude.ai suggestion to prevent log(0)\n",
    "        y_hat = np.clip(y_hat, epsilon, 1-epsilon)\n",
    "\n",
    "        # step 2: Calculate cost\n",
    "        cost = -np.mean(y * np.log(y_hat) + (1 - y) * np.log(1 - y_hat))\n",
    "\n",
    "        # step 3: Calculate regularization term\n",
    "        reg_term = (lambda_/(2*m)) * np.sum(theta[1:] ** 2)\n",
    "        \n",
    "        # step 4: Add regularization term to calculated cost\n",
    "        J = cost + reg_term\n",
    "        return J \n",
    "    \n",
    "    def predict(self, X):\n",
    "        return self.sigmoid(X @ self.theta)\n"
   ]
  },
  {
   "cell_type": "markdown",
   "metadata": {},
   "source": [
    "### Comparing `sklearn` logistic regression model to my own  \n",
    "Comparing my ans sklearns logistic regression model to each other reveals a comparable performance. The accuracy scores are just about the same. Again $\\theta_k$s differ from eachother again by the constant term on $\\theta_1$. I'm not sure why this is the case."
   ]
  },
  {
   "cell_type": "code",
   "execution_count": 29,
   "metadata": {},
   "outputs": [],
   "source": [
    "# YOUR CODE HERE TO EVALUATE LOGISTIC REGRESSION MODEL\n",
    "from sklearn.linear_model import LogisticRegression as sk_LogisticRegression\n",
    "### begin solution\n",
    "sk_log = sk_LogisticRegression()\n",
    "sk_log.fit(X_train, y_train)\n",
    "sk_preds = sk_log.predict(X_test)\n",
    "\n",
    "jg_log = LogisticRegression()\n",
    "jg_log.fit(X_train, y_train, alpha=alpha, lambda_=l2, epochs=num_iters)\n",
    "jg_preds = jg_log.predict(X_test)\n",
    "### end solution"
   ]
  },
  {
   "cell_type": "code",
   "execution_count": 30,
   "metadata": {},
   "outputs": [
    {
     "name": "stdout",
     "output_type": "stream",
     "text": [
      "accuracy sklearn 0.8108108108108109\n",
      "accuracy_jgray 0.782608695652174\n"
     ]
    }
   ],
   "source": [
    "accuracy_sk = accuracy(y_test, sk_preds)\n",
    "accuracy_jg = accuracy(y_test, jg_preds)\n",
    "print(f\"accuracy sklearn {accuracy_sk}\")\n",
    "print(f\"accuracy_jgray {accuracy_jg}\")"
   ]
  },
  {
   "cell_type": "code",
   "execution_count": 31,
   "metadata": {},
   "outputs": [
    {
     "data": {
      "image/png": "[encoded data removed]",
      "text/plain": [
       "<Figure size 640x480 with 1 Axes>"
      ]
     },
     "metadata": {},
     "output_type": "display_data"
    },
    {
     "name": "stdout",
     "output_type": "stream",
     "text": [
      "theta's James [-2.53240134  0.00686564  0.90350452  0.16811995 -0.02136903]\n"
     ]
    }
   ],
   "source": [
    "xs = np.linspace(-10, 10, 201)\n",
    "psk = np.poly1d(sk_log.coef_[0])\n",
    "pjg = np.poly1d(jg_log.theta)\n",
    "plt.plot(psk(xs), label=\"sk-learn $\\\\theta_k$\")\n",
    "plt.plot(pjg(xs), label=\"JG-learn $\\\\theta_k$\")\n",
    "plt.grid(True)\n",
    "plt.legend()\n",
    "plt.show()\n",
    "print(f\"theta's James {reverse_theta(jg_log.theta, scaler)}\")"
   ]
  },
  {
   "cell_type": "markdown",
   "metadata": {},
   "source": [
    "### Comparing the values to the Delainy paper\n",
    "parameters of Delaney paper:\n",
    "$Log(Sw) = 0.16-0.63 clogP - 0.0062 MWT + 0.066 RB - 0.74 AP$\n",
    "\n",
    "My parameters:\n",
    "$Log(Sw) = -2.53240134X_1 + 0.00686564X_2 + 0.90350452X_3 + 0.16811995X_4 -0.02136903X_5$\n",
    "\n",
    "Just the $MWT$ parameter compares. "
   ]
  },
  {
   "cell_type": "markdown",
   "metadata": {},
   "source": [
    "<a name='07'></a>\n",
    "## Part H: Development of the logistic regression class\n",
    "\n",
    "When you are satisfied with your developed code snippets you can build a python file (No notebook!!!) with the logistic regression class. Use your Object Oriented programming skills to compose a class with at least the methods `fit()` and `predict()`.  The method `fit()` should fit the best logistic regression equation and the method `predict()` should predict the class. Add the `predict_proba()` method optionally . \n",
    "\n",
    "### <span style=\"background-color: lightyellow;\">Development Task</span>\n",
    "Submit a repository with a directory `regression` that includes:\n",
    "- The logistic regression class (python file) with proper documentation.\n",
    "- This completed notebook for reference\n",
    "- An evaluation document that details specific scenarios or datasets where each type of regression (linear, logistic, polynomial) is appropriate or inappropriate.\n",
    "\n",
    "### Additional notes\n",
    "- Code quality and readability are important, so adhere to best practices in coding and documentation.\n",
    "- If you want to optimize your model you could consider the deepchem featurizer (not mandatory, just for fun)\n",
    "- use an argumentative approach in your notebook\n",
    "\n"
   ]
  },
  {
   "cell_type": "markdown",
   "metadata": {},
   "source": [
    "<a name='08'></a>\n",
    "## Part I: Development of the polynomial regression class\n",
    "\n",
    "This part is the bonus part, and it is not mandatory. \n",
    "\n",
    "Make sure that you understand the theoretical background of the polynomial regression. \n",
    "In addition to the logistic regression develop your own polynomial regression class. Demonstrate the performance and usage with a use case. \n"
   ]
  },
  {
   "cell_type": "markdown",
   "metadata": {},
   "source": [
    "\n",
    "---\n",
    "\n",
    "## References:\n",
    "- Numpy: https://nbviewer.jupyter.org/github/ageron/handson-ml/blob/master/tools_numpy.ipynb\n",
    "- Linear regression: https://video.hanze.nl/media/linear+regression/0_63duegik\n",
    "- vectorized implementation: https://video.hanze.nl/media/why_we_love_numpy.mov/0_npz2lx0a\n",
    "- gradient descent: https://video.hanze.nl/media/gradient_descent/0_otuqf7wj\n",
    "- regularization https://video.hanze.nl/media/regularization.m4v/0_cv10hwxn\n",
    "\n",
    "[1]. Delaney, John S. “ESOL: estimating aqueous solubility directly from molecular structure.” Journal of chemical information and computer sciences 44.3 (2004): 1000-1005.<br></br>\n",
    "[2] Gaulton, A., et all, 2012. ChEMBL: a large-scale bioactivity database for drug discovery. Nucleic acids research, 40(D1), pp.D1100-D1107.<br></br>\n",
    "[3] Landrum, G., 2013. Rdkit documentation. Release, 1(1-79), p.4.\n",
    "\n"
   ]
  }
 ],
 "metadata": {
  "kernelspec": {
   "display_name": "ml",
   "language": "python",
   "name": "python3"
  },
  "language_info": {
   "codemirror_mode": {
    "name": "ipython",
    "version": 3
   },
   "file_extension": ".py",
   "mimetype": "text/x-python",
   "name": "python",
   "nbconvert_exporter": "python",
   "pygments_lexer": "ipython3",
   "version": "3.13.0"
  }
 },
 "nbformat": 4,
 "nbformat_minor": 4
}
