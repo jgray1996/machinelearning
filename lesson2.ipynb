{
 "cells": [
  {
   "cell_type": "code",
   "execution_count": 1,
   "id": "b4a908fc-6bfb-46c5-ac4f-c3a0ac3f5778",
   "metadata": {},
   "outputs": [],
   "source": [
    "import sklearn as sn\n",
    "import numpy as np\n",
    "import pandas as pd\n",
    "import matplotlib.pyplot as plt"
   ]
  },
  {
   "cell_type": "code",
   "execution_count": 2,
   "id": "59f8a020-8bab-48cd-b67e-10eb1a5ac687",
   "metadata": {},
   "outputs": [
    {
     "data": {
      "text/plain": [
       "array([-1.6, -1.4, -1.2, -1. , -0.8, -0.6, -0.4, -0.2,  0. ,  0.2,  0.4,\n",
       "        0.6,  0.8,  1. ,  1.2,  1.4,  1.6])"
      ]
     },
     "execution_count": 2,
     "metadata": {},
     "output_type": "execute_result"
    }
   ],
   "source": [
    "x = np.linspace(-1.6, 1.6, 17)\n",
    "x"
   ]
  },
  {
   "cell_type": "code",
   "execution_count": 3,
   "id": "2e4002f0-4924-4c2a-991c-0beb00cb9dbb",
   "metadata": {},
   "outputs": [
    {
     "data": {
      "text/plain": [
       "array([-0.02919952,  0.16996714,  0.36235775,  0.54030231,  0.69670671,\n",
       "        0.82533561,  0.92106099,  0.98006658,  1.        ,  0.98006658,\n",
       "        0.92106099,  0.82533561,  0.69670671,  0.54030231,  0.36235775,\n",
       "        0.16996714, -0.02919952])"
      ]
     },
     "execution_count": 3,
     "metadata": {},
     "output_type": "execute_result"
    }
   ],
   "source": [
    "y = np.cos(x)\n",
    "y"
   ]
  },
  {
   "cell_type": "code",
   "execution_count": 4,
   "id": "972e97dd-81d1-49e5-b711-8ddcdda257c0",
   "metadata": {},
   "outputs": [
    {
     "data": {
      "image/png": "[encoded data removed]",
      "text/plain": [
       "<Figure size 640x480 with 1 Axes>"
      ]
     },
     "metadata": {},
     "output_type": "display_data"
    }
   ],
   "source": [
    "plt.plot(x, y, 'o')\n",
    "plt.show()"
   ]
  },
  {
   "cell_type": "code",
   "execution_count": 5,
   "id": "da1ee0cc-df16-45b7-aba9-e56143659d82",
   "metadata": {},
   "outputs": [
    {
     "data": {
      "text/plain": [
       "array([[ 1.  , -1.6 ,  2.56],\n",
       "       [ 1.  , -1.4 ,  1.96],\n",
       "       [ 1.  , -1.2 ,  1.44],\n",
       "       [ 1.  , -1.  ,  1.  ],\n",
       "       [ 1.  , -0.8 ,  0.64],\n",
       "       [ 1.  , -0.6 ,  0.36],\n",
       "       [ 1.  , -0.4 ,  0.16],\n",
       "       [ 1.  , -0.2 ,  0.04],\n",
       "       [ 1.  ,  0.  ,  0.  ],\n",
       "       [ 1.  ,  0.2 ,  0.04],\n",
       "       [ 1.  ,  0.4 ,  0.16],\n",
       "       [ 1.  ,  0.6 ,  0.36],\n",
       "       [ 1.  ,  0.8 ,  0.64],\n",
       "       [ 1.  ,  1.  ,  1.  ],\n",
       "       [ 1.  ,  1.2 ,  1.44],\n",
       "       [ 1.  ,  1.4 ,  1.96],\n",
       "       [ 1.  ,  1.6 ,  2.56]])"
      ]
     },
     "execution_count": 5,
     "metadata": {},
     "output_type": "execute_result"
    }
   ],
   "source": [
    "# Fit parabola y = thta0 +theta1 * X + theta2 * X^2\n",
    "X = np.array([np.ones_like(x), x, x**2]).T\n",
    "X"
   ]
  },
  {
   "cell_type": "code",
   "execution_count": 6,
   "id": "4c37b851-a4c4-4cb5-98d5-e475194014bd",
   "metadata": {},
   "outputs": [
    {
     "data": {
      "text/plain": [
       "array([ 9.74068111e-01, -9.13624924e-17, -4.06002619e-01])"
      ]
     },
     "execution_count": 6,
     "metadata": {},
     "output_type": "execute_result"
    }
   ],
   "source": [
    "theta = np.linalg.inv(X.T @ X) @ (X.T @ y)\n",
    "theta"
   ]
  },
  {
   "cell_type": "code",
   "execution_count": 7,
   "id": "6f751ecf-a6e8-46ce-94ba-57f93edcc0c1",
   "metadata": {},
   "outputs": [
    {
     "data": {
      "text/plain": [
       "array([ 9.74068111e-01, -9.13624924e-17, -4.06002619e-01])"
      ]
     },
     "execution_count": 7,
     "metadata": {},
     "output_type": "execute_result"
    }
   ],
   "source": [
    "theta = np.linalg.solve(X.T @ X, X.T @ y)\n",
    "theta"
   ]
  },
  {
   "cell_type": "code",
   "execution_count": 8,
   "id": "2b32e02b-9ec7-4f08-b367-737e17505564",
   "metadata": {},
   "outputs": [
    {
     "data": {
      "text/plain": [
       "array([ 9.74068111e-01, -5.55111512e-17, -4.06002619e-01])"
      ]
     },
     "execution_count": 8,
     "metadata": {},
     "output_type": "execute_result"
    }
   ],
   "source": [
    "theta, *_ = np.linalg.lstsq(X, y, rcond=None)\n",
    "theta"
   ]
  },
  {
   "cell_type": "code",
   "execution_count": 9,
   "id": "d142a04a-6f8d-431d-9521-6ccfef2f28da",
   "metadata": {},
   "outputs": [
    {
     "data": {
      "image/png": "[encoded data removed]",
      "text/plain": [
       "<Figure size 640x480 with 1 Axes>"
      ]
     },
     "metadata": {},
     "output_type": "display_data"
    }
   ],
   "source": [
    "yhat = theta[0] + theta[1] * x +theta[2] * x ** 2\n",
    "yhat = X @ theta\n",
    "plt.plot(x, y, 'o')\n",
    "plt.plot(x, yhat, '.')\n",
    "plt.show()"
   ]
  },
  {
   "cell_type": "code",
   "execution_count": 10,
   "id": "ad3365f7-d6b5-4143-ba97-b969423ea419",
   "metadata": {},
   "outputs": [
    {
     "data": {
      "text/plain": [
       "array([-0.03609907,  0.00833584,  0.02706659,  0.02776319,  0.01751973,\n",
       "        0.00257155, -0.0119533 , -0.02223857, -0.02593189, -0.02223857,\n",
       "       -0.0119533 ,  0.00257155,  0.01751973,  0.02776319,  0.02706659,\n",
       "        0.00833584, -0.03609907])"
      ]
     },
     "execution_count": 10,
     "metadata": {},
     "output_type": "execute_result"
    }
   ],
   "source": [
    "error = yhat - y\n",
    "error"
   ]
  },
  {
   "cell_type": "code",
   "execution_count": 11,
   "id": "4ea220de-3d0e-4c32-bb7d-2d37a0e1d6cf",
   "metadata": {},
   "outputs": [
    {
     "data": {
      "text/plain": [
       "np.float64(0.0002448967193254194)"
      ]
     },
     "execution_count": 11,
     "metadata": {},
     "output_type": "execute_result"
    }
   ],
   "source": [
    "cost = 0.5 / len(y) * error.T @ error\n",
    "cost"
   ]
  },
  {
   "cell_type": "code",
   "execution_count": 12,
   "id": "be784f78-2b6f-491f-832a-1b5ef00919ac",
   "metadata": {},
   "outputs": [
    {
     "data": {
      "text/plain": [
       "array([0., 0., 0.])"
      ]
     },
     "execution_count": 12,
     "metadata": {},
     "output_type": "execute_result"
    }
   ],
   "source": [
    "theta = np.zeros(X.shape[1])\n",
    "theta"
   ]
  },
  {
   "cell_type": "code",
   "execution_count": 13,
   "id": "3870f9fb-f9f2-4ed8-a445-d4656ab39d49",
   "metadata": {},
   "outputs": [
    {
     "data": {
      "text/plain": [
       "array([ 9.74005907e-01, -2.17949974e-17, -4.05958031e-01])"
      ]
     },
     "execution_count": 13,
     "metadata": {},
     "output_type": "execute_result"
    }
   ],
   "source": [
    "costs = []\n",
    "alpha =  0.1\n",
    "for _ in range(300):\n",
    "    yhat = X @ theta\n",
    "    error = yhat - y\n",
    "    theta = theta - alpha / len(y) * X.T @ error\n",
    "    costs.append(0.5 * len(y) * error.T @ error)\n",
    "theta"
   ]
  },
  {
   "cell_type": "code",
   "execution_count": 14,
   "id": "1dece3fe-e0ee-4899-9dfb-4cf083d7799d",
   "metadata": {},
   "outputs": [
    {
     "data": {
      "image/png": "[encoded data removed]",
      "text/plain": [
       "<Figure size 640x480 with 1 Axes>"
      ]
     },
     "metadata": {},
     "output_type": "display_data"
    }
   ],
   "source": [
    "plt.plot(costs)\n",
    "plt.xlabel(\"epoch\")\n",
    "plt.ylabel(\"cost\")\n",
    "plt.title(\"Learning curve\")\n",
    "plt.show()"
   ]
  },
  {
   "cell_type": "code",
   "execution_count": 15,
   "id": "8a3021e3-f022-4809-9a6d-33fa397412b6",
   "metadata": {},
   "outputs": [
    {
     "data": {
      "image/png": "[encoded data removed]",
      "text/plain": [
       "<Figure size 640x480 with 1 Axes>"
      ]
     },
     "metadata": {},
     "output_type": "display_data"
    }
   ],
   "source": [
    "yhat = X @ theta\n",
    "\n",
    "plt.plot(x, y, 'o')\n",
    "plt.plot(x, yhat, '.')\n",
    "plt.show()"
   ]
  },
  {
   "cell_type": "code",
   "execution_count": 17,
   "id": "5b9416ee-7bd4-4502-b6fe-4168bd53593d",
   "metadata": {},
   "outputs": [
    {
     "data": {
      "text/plain": [
       "array([[ 3, -1, -3],\n",
       "       [ 2,  3,  6]])"
      ]
     },
     "execution_count": 17,
     "metadata": {},
     "output_type": "execute_result"
    }
   ],
   "source": [
    "x1 = [3, -1, -3]\n",
    "x2 = [2, 3, 6]\n",
    "system1 = np.array([x1, x2])\n",
    "system1"
   ]
  }
 ],
 "metadata": {
  "kernelspec": {
   "display_name": "Python 3 (ipykernel)",
   "language": "python",
   "name": "python3"
  },
  "language_info": {
   "codemirror_mode": {
    "name": "ipython",
    "version": 3
   },
   "file_extension": ".py",
   "mimetype": "text/x-python",
   "name": "python",
   "nbconvert_exporter": "python",
   "pygments_lexer": "ipython3",
   "version": "3.12.5"
  }
 },
 "nbformat": 4,
 "nbformat_minor": 5
}
